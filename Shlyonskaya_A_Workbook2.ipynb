{
 "cells": [
  {
   "cell_type": "code",
   "execution_count": 1,
   "id": "9e4030be-ece5-4c08-9fe2-e4068cb17169",
   "metadata": {},
   "outputs": [],
   "source": [
    "import numpy as np\n",
    "import pandas as pd\n",
    "import sklearn as sk"
   ]
  },
  {
   "cell_type": "markdown",
   "id": "e599c85f-3eac-433e-9aca-c3998370cb5e",
   "metadata": {},
   "source": [
    "## Задание 1.3.1 "
   ]
  },
  {
   "cell_type": "code",
   "execution_count": 2,
   "id": "e5848f16-884e-454c-83c8-d20fe747b1a0",
   "metadata": {},
   "outputs": [
    {
     "name": "stdout",
     "output_type": "stream",
     "text": [
      "[[1 0 1 0 1 0 1 0]\n",
      " [0 1 0 1 0 1 0 1]\n",
      " [1 0 1 0 1 0 1 0]\n",
      " [0 1 0 1 0 1 0 1]\n",
      " [1 0 1 0 1 0 1 0]\n",
      " [0 1 0 1 0 1 0 1]\n",
      " [1 0 1 0 1 0 1 0]\n",
      " [0 1 0 1 0 1 0 1]]\n"
     ]
    }
   ],
   "source": [
    "# Создаем пустую матрицу 8x8, заполненную нулями\n",
    "matrix = np.zeros((8, 8), dtype=int)\n",
    "\n",
    "# Заполним чётные клетки (начиная с [0,0]) единицами\n",
    "matrix[::2, ::2] = 1\n",
    "matrix[1::2, 1::2] = 1\n",
    "\n",
    "print(matrix)"
   ]
  },
  {
   "cell_type": "markdown",
   "id": "9e36348d-80c4-4cd4-bc80-40359091398b",
   "metadata": {},
   "source": [
    "## Задание 1.3.2"
   ]
  },
  {
   "cell_type": "code",
   "execution_count": 3,
   "id": "70c31152-47e6-4cd3-a28e-1be18667c621",
   "metadata": {},
   "outputs": [
    {
     "name": "stdout",
     "output_type": "stream",
     "text": [
      "[[0 1 2 3 4]\n",
      " [0 1 2 3 4]\n",
      " [0 1 2 3 4]\n",
      " [0 1 2 3 4]\n",
      " [0 1 2 3 4]]\n"
     ]
    }
   ],
   "source": [
    "row_values = np.arange(5)\n",
    "\n",
    "# Повторим одномерный массив 5 раз, чтобы создать 5 строк\n",
    "matrix = np.tile(row_values, (5, 1))\n",
    "\n",
    "print(matrix)"
   ]
  },
  {
   "cell_type": "markdown",
   "id": "0f74ad15-6594-495f-90a4-379fdd95f5f8",
   "metadata": {},
   "source": [
    "## Задание 1.3.3"
   ]
  },
  {
   "cell_type": "code",
   "execution_count": 4,
   "id": "e992cdfb-bf98-4da2-ba55-80f9cc0975d5",
   "metadata": {},
   "outputs": [
    {
     "name": "stdout",
     "output_type": "stream",
     "text": [
      "[[[0.99476603 0.85694869 0.74738777]\n",
      "  [0.85656805 0.63156171 0.37807522]\n",
      "  [0.59938701 0.679044   0.65479234]]\n",
      "\n",
      " [[0.92313307 0.04975168 0.8753953 ]\n",
      "  [0.18085965 0.35840117 0.55817107]\n",
      "  [0.02074147 0.4319189  0.05337031]]\n",
      "\n",
      " [[0.91911467 0.67051872 0.27453793]\n",
      "  [0.34028839 0.95576365 0.19189571]\n",
      "  [0.02212232 0.7936278  0.65737412]]]\n"
     ]
    }
   ],
   "source": [
    "# Создаем массив 3x3x3 со случайными значениями от 0 до 1\n",
    "random_array = np.random.rand(3, 3, 3)\n",
    "\n",
    "print(random_array)"
   ]
  },
  {
   "cell_type": "markdown",
   "id": "b6a231ad-933d-4a41-b2d9-20c902f7633f",
   "metadata": {},
   "source": [
    "## Задание 1.3.4"
   ]
  },
  {
   "cell_type": "code",
   "execution_count": 5,
   "id": "bd410de1-e1c9-4ffe-9939-99e2000ce8d1",
   "metadata": {},
   "outputs": [
    {
     "name": "stdout",
     "output_type": "stream",
     "text": [
      "[[1 1 1 1 1]\n",
      " [1 0 0 0 1]\n",
      " [1 0 0 0 1]\n",
      " [1 0 0 0 1]\n",
      " [1 1 1 1 1]]\n"
     ]
    }
   ],
   "source": [
    "import numpy as np\n",
    "\n",
    "# Создаем матрицу 5x5, заполненную нулями\n",
    "matrix = np.zeros((5, 5), dtype=int)\n",
    "\n",
    "# Устанавливаем значения на границах равными 1\n",
    "matrix[0, :] = 1  # Верхняя граница\n",
    "matrix[-1, :] = 1  # Нижняя граница\n",
    "matrix[:, 0] = 1  # Левая граница\n",
    "matrix[:, -1] = 1  # Правая граница\n",
    "\n",
    "print(matrix)"
   ]
  },
  {
   "cell_type": "markdown",
   "id": "10e23feb-aaed-4c51-8959-c5c7149c5f26",
   "metadata": {},
   "source": [
    "## Задание 1.3.5"
   ]
  },
  {
   "cell_type": "code",
   "execution_count": 6,
   "id": "edc81f55-7301-42eb-89ed-4e5c04234528",
   "metadata": {},
   "outputs": [
    {
     "name": "stdout",
     "output_type": "stream",
     "text": [
      "[9 5 3 2 1]\n"
     ]
    }
   ],
   "source": [
    "# Создаем массив\n",
    "my_array = np.array([5, 2, 9, 1, 3])\n",
    "\n",
    "# Сортируем массив по убыванию\n",
    "sorted_array = np.sort(my_array)[::-1]\n",
    "\n",
    "# Выводим отсортированный массив\n",
    "print(sorted_array)"
   ]
  },
  {
   "cell_type": "markdown",
   "id": "04f7f2bc-b742-4448-9bd6-fd91cd75c3b1",
   "metadata": {},
   "source": [
    "## Задание 1.3.6"
   ]
  },
  {
   "cell_type": "code",
   "execution_count": 7,
   "id": "b9ce32cc-fa8c-4c45-9a5f-14b0de815b24",
   "metadata": {},
   "outputs": [
    {
     "name": "stdout",
     "output_type": "stream",
     "text": [
      "Форма матрицы: (3, 4)\n",
      "Размер матрицы: 12\n",
      "Размерность матрицы: 2\n"
     ]
    }
   ],
   "source": [
    "# Создадим матрицу 3x4 (3 строки, 4 столбца) с произвольными значениями\n",
    "matrix = np.array([[1, 2, 3, 4],\n",
    "                   [5, 6, 7, 8],\n",
    "                   [9, 10, 11, 12]])\n",
    "\n",
    "# Выведем форму матрицы\n",
    "print(\"Форма матрицы:\", matrix.shape)\n",
    "\n",
    "# Выведем размер матрицы\n",
    "print(\"Размер матрицы:\", matrix.size)\n",
    "\n",
    "# Выведем размерность матрицы\n",
    "print(\"Размерность матрицы:\", matrix.ndim)\n"
   ]
  },
  {
   "cell_type": "markdown",
   "id": "1fe8ec47-ff7a-4d9a-bee4-a2c4cb52806b",
   "metadata": {},
   "source": [
    "## Задание 2.3.1"
   ]
  },
  {
   "cell_type": "code",
   "execution_count": 8,
   "id": "d11d59e5-b507-4fee-9e21-78c477adb330",
   "metadata": {},
   "outputs": [
    {
     "name": "stdout",
     "output_type": "stream",
     "text": [
      "Евклидово расстояние между a и b: 5.196152422706632\n"
     ]
    }
   ],
   "source": [
    "# Создадим два NumPy массива, представляющих точки a и b\n",
    "a = pd.Series([1, 2, 3])\n",
    "b = pd.Series([4, 5, 6])\n",
    "\n",
    "# Вычислим квадрат разности между a и b для каждой координаты\n",
    "squared_diff = (a - b) ** 2\n",
    "\n",
    "# Вычислим сумму квадратов разностей\n",
    "sum_squared_diff = squared_diff.sum()\n",
    "\n",
    "# Вычислим квадратный корень из суммы квадратов разностей\n",
    "euclidean_distance = np.sqrt(sum_squared_diff)\n",
    "\n",
    "print(\"Евклидово расстояние между a и b:\", euclidean_distance)"
   ]
  },
  {
   "cell_type": "markdown",
   "id": "48ca8b19-378c-4d4a-8ef9-67b55cde8bb3",
   "metadata": {},
   "source": [
    "## Задание 2.3.2\n"
   ]
  },
  {
   "cell_type": "code",
   "execution_count": 9,
   "id": "6fb78ec0-9603-411b-88a8-1b8055d40d5f",
   "metadata": {},
   "outputs": [
    {
     "name": "stdout",
     "output_type": "stream",
     "text": [
      "   sepal_length_cm  sepal_width_cm  petal_length_cm  petal_width_cm species\n",
      "0              5.1             3.5              1.4             0.2  setosa\n",
      "1              4.9             3.0              1.4             0.2  setosa\n",
      "2              4.7             3.2              1.3             0.2  setosa\n",
      "3              4.6             3.1              1.5             0.2  setosa\n",
      "4              5.0             3.6              1.4             0.2  setosa\n"
     ]
    }
   ],
   "source": [
    "# Замените URL ниже на URL CSV-файла, который вы хотите загрузить\n",
    "url = \"https://raw.githubusercontent.com/akmand/datasets/master/iris.csv\"\n",
    "\n",
    "# Загрузите CSV-файл во фрейм данных\n",
    "df = pd.read_csv(url)\n",
    "\n",
    "# Выведите первые несколько строк фрейма данных для проверки\n",
    "print(df.head(5))\n"
   ]
  },
  {
   "cell_type": "markdown",
   "id": "1c2cfbfc-8f93-4826-914d-97bf4377d80c",
   "metadata": {},
   "source": [
    "## Задание 2.3.3"
   ]
  },
  {
   "cell_type": "code",
   "execution_count": 10,
   "id": "0935d34a-257a-4778-93b2-5999cb7688e1",
   "metadata": {},
   "outputs": [
    {
     "data": {
      "text/html": [
       "<div>\n",
       "<style scoped>\n",
       "    .dataframe tbody tr th:only-of-type {\n",
       "        vertical-align: middle;\n",
       "    }\n",
       "\n",
       "    .dataframe tbody tr th {\n",
       "        vertical-align: top;\n",
       "    }\n",
       "\n",
       "    .dataframe thead th {\n",
       "        text-align: right;\n",
       "    }\n",
       "</style>\n",
       "<table border=\"1\" class=\"dataframe\">\n",
       "  <thead>\n",
       "    <tr style=\"text-align: right;\">\n",
       "      <th></th>\n",
       "      <th>sepal_length_cm</th>\n",
       "      <th>sepal_width_cm</th>\n",
       "      <th>petal_length_cm</th>\n",
       "      <th>petal_width_cm</th>\n",
       "    </tr>\n",
       "  </thead>\n",
       "  <tbody>\n",
       "    <tr>\n",
       "      <th>count</th>\n",
       "      <td>150.000000</td>\n",
       "      <td>150.000000</td>\n",
       "      <td>150.000000</td>\n",
       "      <td>150.000000</td>\n",
       "    </tr>\n",
       "    <tr>\n",
       "      <th>mean</th>\n",
       "      <td>5.843333</td>\n",
       "      <td>3.054000</td>\n",
       "      <td>3.758667</td>\n",
       "      <td>1.198667</td>\n",
       "    </tr>\n",
       "    <tr>\n",
       "      <th>std</th>\n",
       "      <td>0.828066</td>\n",
       "      <td>0.433594</td>\n",
       "      <td>1.764420</td>\n",
       "      <td>0.763161</td>\n",
       "    </tr>\n",
       "    <tr>\n",
       "      <th>min</th>\n",
       "      <td>4.300000</td>\n",
       "      <td>2.000000</td>\n",
       "      <td>1.000000</td>\n",
       "      <td>0.100000</td>\n",
       "    </tr>\n",
       "    <tr>\n",
       "      <th>25%</th>\n",
       "      <td>5.100000</td>\n",
       "      <td>2.800000</td>\n",
       "      <td>1.600000</td>\n",
       "      <td>0.300000</td>\n",
       "    </tr>\n",
       "    <tr>\n",
       "      <th>50%</th>\n",
       "      <td>5.800000</td>\n",
       "      <td>3.000000</td>\n",
       "      <td>4.350000</td>\n",
       "      <td>1.300000</td>\n",
       "    </tr>\n",
       "    <tr>\n",
       "      <th>75%</th>\n",
       "      <td>6.400000</td>\n",
       "      <td>3.300000</td>\n",
       "      <td>5.100000</td>\n",
       "      <td>1.800000</td>\n",
       "    </tr>\n",
       "    <tr>\n",
       "      <th>max</th>\n",
       "      <td>7.900000</td>\n",
       "      <td>4.400000</td>\n",
       "      <td>6.900000</td>\n",
       "      <td>2.500000</td>\n",
       "    </tr>\n",
       "  </tbody>\n",
       "</table>\n",
       "</div>"
      ],
      "text/plain": [
       "       sepal_length_cm  sepal_width_cm  petal_length_cm  petal_width_cm\n",
       "count       150.000000      150.000000       150.000000      150.000000\n",
       "mean          5.843333        3.054000         3.758667        1.198667\n",
       "std           0.828066        0.433594         1.764420        0.763161\n",
       "min           4.300000        2.000000         1.000000        0.100000\n",
       "25%           5.100000        2.800000         1.600000        0.300000\n",
       "50%           5.800000        3.000000         4.350000        1.300000\n",
       "75%           6.400000        3.300000         5.100000        1.800000\n",
       "max           7.900000        4.400000         6.900000        2.500000"
      ]
     },
     "execution_count": 10,
     "metadata": {},
     "output_type": "execute_result"
    }
   ],
   "source": [
    "df.head(2)\n",
    "df.tail(3)\n",
    "df.shape\n",
    "df.describe()"
   ]
  },
  {
   "cell_type": "code",
   "execution_count": 11,
   "id": "e75e8633-1816-4d96-ace0-b97ad692b590",
   "metadata": {},
   "outputs": [
    {
     "data": {
      "text/html": [
       "<div>\n",
       "<style scoped>\n",
       "    .dataframe tbody tr th:only-of-type {\n",
       "        vertical-align: middle;\n",
       "    }\n",
       "\n",
       "    .dataframe tbody tr th {\n",
       "        vertical-align: top;\n",
       "    }\n",
       "\n",
       "    .dataframe thead th {\n",
       "        text-align: right;\n",
       "    }\n",
       "</style>\n",
       "<table border=\"1\" class=\"dataframe\">\n",
       "  <thead>\n",
       "    <tr style=\"text-align: right;\">\n",
       "      <th></th>\n",
       "      <th>sepal_length_cm</th>\n",
       "      <th>sepal_width_cm</th>\n",
       "      <th>petal_length_cm</th>\n",
       "      <th>petal_width_cm</th>\n",
       "      <th>species</th>\n",
       "    </tr>\n",
       "  </thead>\n",
       "  <tbody>\n",
       "    <tr>\n",
       "      <th>1</th>\n",
       "      <td>4.9</td>\n",
       "      <td>3.0</td>\n",
       "      <td>1.4</td>\n",
       "      <td>0.2</td>\n",
       "      <td>setosa</td>\n",
       "    </tr>\n",
       "    <tr>\n",
       "      <th>2</th>\n",
       "      <td>4.7</td>\n",
       "      <td>3.2</td>\n",
       "      <td>1.3</td>\n",
       "      <td>0.2</td>\n",
       "      <td>setosa</td>\n",
       "    </tr>\n",
       "    <tr>\n",
       "      <th>3</th>\n",
       "      <td>4.6</td>\n",
       "      <td>3.1</td>\n",
       "      <td>1.5</td>\n",
       "      <td>0.2</td>\n",
       "      <td>setosa</td>\n",
       "    </tr>\n",
       "    <tr>\n",
       "      <th>4</th>\n",
       "      <td>5.0</td>\n",
       "      <td>3.6</td>\n",
       "      <td>1.4</td>\n",
       "      <td>0.2</td>\n",
       "      <td>setosa</td>\n",
       "    </tr>\n",
       "    <tr>\n",
       "      <th>5</th>\n",
       "      <td>5.4</td>\n",
       "      <td>3.9</td>\n",
       "      <td>1.7</td>\n",
       "      <td>0.4</td>\n",
       "      <td>setosa</td>\n",
       "    </tr>\n",
       "  </tbody>\n",
       "</table>\n",
       "</div>"
      ],
      "text/plain": [
       "   sepal_length_cm  sepal_width_cm  petal_length_cm  petal_width_cm species\n",
       "1              4.9             3.0              1.4             0.2  setosa\n",
       "2              4.7             3.2              1.3             0.2  setosa\n",
       "3              4.6             3.1              1.5             0.2  setosa\n",
       "4              5.0             3.6              1.4             0.2  setosa\n",
       "5              5.4             3.9              1.7             0.4  setosa"
      ]
     },
     "execution_count": 11,
     "metadata": {},
     "output_type": "execute_result"
    }
   ],
   "source": [
    "df.loc[1:5]"
   ]
  },
  {
   "cell_type": "code",
   "execution_count": 12,
   "id": "1cfbf548-3583-4bcf-8c4e-ce97941acf0b",
   "metadata": {},
   "outputs": [
    {
     "name": "stdout",
     "output_type": "stream",
     "text": [
      "   sepal_length_cm  sepal_width_cm  petal_length_cm  petal_width_cm species\n",
      "0              5.1             3.5              1.4             0.2  setosa\n",
      "5              5.4             3.9              1.7             0.4  setosa\n"
     ]
    }
   ],
   "source": [
    "# Отбираем строки, где значение в столбце \"sepal_length\" больше 5.0\n",
    "filtered_df = df[df['sepal_length_cm'] > 5.0].head(2)\n",
    "\n",
    "print(filtered_df)"
   ]
  },
  {
   "cell_type": "markdown",
   "id": "dff23e3c-4d4a-4acb-83a5-2bbbc3ae95c3",
   "metadata": {},
   "source": [
    "## Задание 3.3.2"
   ]
  },
  {
   "cell_type": "code",
   "execution_count": 17,
   "id": "ce97bc25-8d48-4595-8734-bd2bde674b01",
   "metadata": {},
   "outputs": [
    {
     "name": "stdout",
     "output_type": "stream",
     "text": [
      "Исходный фрейм данных:\n",
      "\n",
      "   sepal_length_cm  sepal_width_cm  petal_length_cm  petal_width_cm species\n",
      "0              5.1             3.5              1.4             0.2  setosa\n",
      "1              4.9             3.0              1.4             0.2  setosa\n",
      "2              4.7             3.2              1.3             0.2  setosa\n",
      "3              4.6             3.1              1.5             0.2  setosa\n",
      "4              5.0             3.6              1.4             0.2  setosa\n",
      "\n",
      "Фрейм данных после нормализации:\n",
      "\n",
      "   sepal_length_cm  sepal_width_cm  petal_length_cm  petal_width_cm species\n",
      "0         0.222222        1.032057              1.4             0.2  setosa\n",
      "1         0.166667       -0.124958              1.4             0.2  setosa\n",
      "2         0.111111        0.337848              1.3             0.2  setosa\n",
      "3         0.083333        0.106445              1.5             0.2  setosa\n",
      "4         0.194444        1.263460              1.4             0.2  setosa\n"
     ]
    }
   ],
   "source": [
    "from sklearn.preprocessing import MinMaxScaler, StandardScaler\n",
    " \n",
    "url = \"https://raw.githubusercontent.com/akmand/datasets/master/iris.csv\"\n",
    "df = pd.read_csv(url)\n",
    "\n",
    "# Выведем первые несколько строк фрейма данных для проверки\n",
    "print(\"Исходный фрейм данных:\\n\")\n",
    "print(df.head())\n",
    "\n",
    "# Создаем объекты для минимаксного преобразования и z-масштабирования\n",
    "minmax_scaler = MinMaxScaler()\n",
    "z_scaler = StandardScaler()\n",
    "\n",
    "# Нормализуем первый числовой признак (sepal_length_cm) с использованием минимаксного преобразования\n",
    "df['sepal_length_cm'] = minmax_scaler.fit_transform(df[['sepal_length_cm']])\n",
    "\n",
    "# Нормализуем второй числовой признак (sepal_width_cm) с использованием z-масштабирования\n",
    "df['sepal_width_cm'] = z_scaler.fit_transform(df[['sepal_width_cm']])\n",
    "\n",
    "# Выведем обновленный фрейм данных с нормализованными признаками\n",
    "print(\"\\nФрейм данных после нормализации:\\n\")\n",
    "print(df.head())"
   ]
  }
 ],
 "metadata": {
  "kernelspec": {
   "display_name": "Python 3 (ipykernel)",
   "language": "python",
   "name": "python3"
  },
  "language_info": {
   "codemirror_mode": {
    "name": "ipython",
    "version": 3
   },
   "file_extension": ".py",
   "mimetype": "text/x-python",
   "name": "python",
   "nbconvert_exporter": "python",
   "pygments_lexer": "ipython3",
   "version": "3.11.5"
  }
 },
 "nbformat": 4,
 "nbformat_minor": 5
}
